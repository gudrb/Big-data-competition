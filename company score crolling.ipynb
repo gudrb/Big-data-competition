{
 "cells": [
  {
   "cell_type": "code",
   "execution_count": 3,
   "metadata": {},
   "outputs": [],
   "source": [
    "from selenium import webdriver\n",
    "import time\n",
    "import datetime\n",
    "import pandas as pd"
   ]
  },
  {
   "cell_type": "code",
   "execution_count": 7,
   "metadata": {},
   "outputs": [],
   "source": [
    "driver = webdriver.Chrome('C:/webdriver/chromedriver.exe')"
   ]
  },
  {
   "cell_type": "code",
   "execution_count": 47,
   "metadata": {},
   "outputs": [
    {
     "ename": "TypeError",
     "evalue": "can only concatenate str (not \"int\") to str",
     "output_type": "error",
     "traceback": [
      "\u001b[1;31m---------------------------------------------------------------------------\u001b[0m",
      "\u001b[1;31mTypeError\u001b[0m                                 Traceback (most recent call last)",
      "\u001b[1;32m<ipython-input-47-e821c5e483a6>\u001b[0m in \u001b[0;36m<module>\u001b[1;34m\u001b[0m\n\u001b[0;32m      1\u001b[0m \u001b[0mu_num\u001b[0m \u001b[1;33m=\u001b[0m \u001b[1;36m58863\u001b[0m\u001b[1;33m\u001b[0m\u001b[1;33m\u001b[0m\u001b[0m\n\u001b[1;32m----> 2\u001b[1;33m \u001b[0murl\u001b[0m \u001b[1;33m=\u001b[0m \u001b[1;34m'https://www.jobplanet.co.kr/companies/'\u001b[0m\u001b[1;33m+\u001b[0m\u001b[0mu_num\u001b[0m\u001b[1;33m+\u001b[0m\u001b[1;34m'/reviews'\u001b[0m\u001b[1;33m\u001b[0m\u001b[1;33m\u001b[0m\u001b[0m\n\u001b[0m",
      "\u001b[1;31mTypeError\u001b[0m: can only concatenate str (not \"int\") to str"
     ]
    }
   ],
   "source": [
    "u_num = 58863\n",
    "url = 'https://www.jobplanet.co.kr/companies/'+u_num+'/reviews'"
   ]
  },
  {
   "cell_type": "code",
   "execution_count": 41,
   "metadata": {},
   "outputs": [
    {
     "name": "stdout",
     "output_type": "stream",
     "text": [
      "https://www.jobplanet.co.kr/companies/58863/reviews\n"
     ]
    }
   ],
   "source": [
    "print(url)"
   ]
  },
  {
   "cell_type": "code",
   "execution_count": 42,
   "metadata": {},
   "outputs": [],
   "source": [
    "driver.get(url)"
   ]
  },
  {
   "cell_type": "code",
   "execution_count": 43,
   "metadata": {},
   "outputs": [],
   "source": [
    "contents1 = driver.find_elements_by_css_selector('span.rate_point')"
   ]
  },
  {
   "cell_type": "code",
   "execution_count": 31,
   "metadata": {},
   "outputs": [
    {
     "name": "stdout",
     "output_type": "stream",
     "text": [
      "<selenium.webdriver.remote.webelement.WebElement (session=\"341461640c52955fb60031ab8553719a\", element=\"0.3956440284269631-1\")>\n"
     ]
    }
   ],
   "source": [
    "for elem in driver.find_elements_by_xpath('(.//span[@class = \"rate_point\"])'):\n",
    "    print(elem)"
   ]
  },
  {
   "cell_type": "code",
   "execution_count": 44,
   "metadata": {},
   "outputs": [
    {
     "data": {
      "text/plain": [
       "'3.4'"
      ]
     },
     "execution_count": 44,
     "metadata": {},
     "output_type": "execute_result"
    }
   ],
   "source": [
    "contents1[0].text"
   ]
  },
  {
   "cell_type": "code",
   "execution_count": 27,
   "metadata": {},
   "outputs": [
    {
     "data": {
      "text/plain": [
       "[<selenium.webdriver.remote.webelement.WebElement (session=\"341461640c52955fb60031ab8553719a\", element=\"0.3956440284269631-1\")>]"
      ]
     },
     "execution_count": 27,
     "metadata": {},
     "output_type": "execute_result"
    }
   ],
   "source": [
    "contents2"
   ]
  },
  {
   "cell_type": "code",
   "execution_count": 45,
   "metadata": {},
   "outputs": [
    {
     "data": {
      "text/plain": [
       "'(주)이스트소프트'"
      ]
     },
     "execution_count": 45,
     "metadata": {},
     "output_type": "execute_result"
    }
   ],
   "source": [
    "driver.find_elements_by_css_selector('h2.tit')[0].text"
   ]
  },
  {
   "cell_type": "code",
   "execution_count": 48,
   "metadata": {},
   "outputs": [],
   "source": [
    "jobplanet_df = pd.DataFrame(columns=[\"name\",\"score\"])\n",
    "for i in range(58763,58864):\n",
    "    url = 'https://www.jobplanet.co.kr/companies/'+str(i)+'/reviews'\n",
    "    driver.get(url)\n",
    "    time.sleep(0.1)\n",
    "    try:\n",
    "        name = driver.find_elements_by_css_selector('span.rate_point')[0].text\n",
    "        score = driver.find_elements_by_css_selector('h2.tit')[0].text\n",
    "    except:\n",
    "        score = \"\"\n",
    "    jobplanet_df.loc[len(jobplanet_df)] = [name,score]\n",
    "time.sleep(1)   "
   ]
  },
  {
   "cell_type": "code",
   "execution_count": 49,
   "metadata": {},
   "outputs": [
    {
     "data": {
      "text/html": [
       "<div>\n",
       "<style scoped>\n",
       "    .dataframe tbody tr th:only-of-type {\n",
       "        vertical-align: middle;\n",
       "    }\n",
       "\n",
       "    .dataframe tbody tr th {\n",
       "        vertical-align: top;\n",
       "    }\n",
       "\n",
       "    .dataframe thead th {\n",
       "        text-align: right;\n",
       "    }\n",
       "</style>\n",
       "<table border=\"1\" class=\"dataframe\">\n",
       "  <thead>\n",
       "    <tr style=\"text-align: right;\">\n",
       "      <th></th>\n",
       "      <th>name</th>\n",
       "      <th>score</th>\n",
       "    </tr>\n",
       "  </thead>\n",
       "  <tbody>\n",
       "    <tr>\n",
       "      <th>0</th>\n",
       "      <td>-</td>\n",
       "      <td>이앤아이미디어(주)</td>\n",
       "    </tr>\n",
       "    <tr>\n",
       "      <th>1</th>\n",
       "      <td>-</td>\n",
       "      <td>이앤아이(주)</td>\n",
       "    </tr>\n",
       "    <tr>\n",
       "      <th>2</th>\n",
       "      <td>-</td>\n",
       "      <td>이앤씨플러스보험중개(주)</td>\n",
       "    </tr>\n",
       "    <tr>\n",
       "      <th>3</th>\n",
       "      <td>-</td>\n",
       "      <td>이앤씨플랜(주)</td>\n",
       "    </tr>\n",
       "    <tr>\n",
       "      <th>4</th>\n",
       "      <td>1.0</td>\n",
       "      <td>이앤씨세미콘(주)</td>\n",
       "    </tr>\n",
       "    <tr>\n",
       "      <th>5</th>\n",
       "      <td>-</td>\n",
       "      <td>이앤씨네트워크(주)</td>\n",
       "    </tr>\n",
       "    <tr>\n",
       "      <th>6</th>\n",
       "      <td>-</td>\n",
       "      <td>이앤씨기업(주)</td>\n",
       "    </tr>\n",
       "    <tr>\n",
       "      <th>7</th>\n",
       "      <td>-</td>\n",
       "      <td>이앤씨(주)</td>\n",
       "    </tr>\n",
       "    <tr>\n",
       "      <th>8</th>\n",
       "      <td>-</td>\n",
       "      <td>이앤씨(주)</td>\n",
       "    </tr>\n",
       "    <tr>\n",
       "      <th>9</th>\n",
       "      <td>-</td>\n",
       "      <td>이앤비코리아(주)</td>\n",
       "    </tr>\n",
       "    <tr>\n",
       "      <th>10</th>\n",
       "      <td>2.0</td>\n",
       "      <td>이앤비소프트(주)</td>\n",
       "    </tr>\n",
       "    <tr>\n",
       "      <th>11</th>\n",
       "      <td>-</td>\n",
       "      <td>이앤비(주)</td>\n",
       "    </tr>\n",
       "    <tr>\n",
       "      <th>12</th>\n",
       "      <td>-</td>\n",
       "      <td>이앤비(주)</td>\n",
       "    </tr>\n",
       "    <tr>\n",
       "      <th>13</th>\n",
       "      <td>-</td>\n",
       "      <td>이앤디리딩대부금융(주)</td>\n",
       "    </tr>\n",
       "    <tr>\n",
       "      <th>14</th>\n",
       "      <td>-</td>\n",
       "      <td>이액트(주)</td>\n",
       "    </tr>\n",
       "    <tr>\n",
       "      <th>15</th>\n",
       "      <td>-</td>\n",
       "      <td>이액션(주)</td>\n",
       "    </tr>\n",
       "    <tr>\n",
       "      <th>16</th>\n",
       "      <td>1.2</td>\n",
       "      <td>이암허브(주)</td>\n",
       "    </tr>\n",
       "    <tr>\n",
       "      <th>17</th>\n",
       "      <td>-</td>\n",
       "      <td>이알코리아(주)</td>\n",
       "    </tr>\n",
       "    <tr>\n",
       "      <th>18</th>\n",
       "      <td>-</td>\n",
       "      <td>이알지서비스(주)</td>\n",
       "    </tr>\n",
       "    <tr>\n",
       "      <th>19</th>\n",
       "      <td>3.0</td>\n",
       "      <td>이알에이코리아(주)</td>\n",
       "    </tr>\n",
       "    <tr>\n",
       "      <th>20</th>\n",
       "      <td>1.0</td>\n",
       "      <td>이알씨트레이딩(주)</td>\n",
       "    </tr>\n",
       "    <tr>\n",
       "      <th>21</th>\n",
       "      <td>-</td>\n",
       "      <td>이안정밀(주)</td>\n",
       "    </tr>\n",
       "    <tr>\n",
       "      <th>22</th>\n",
       "      <td>-</td>\n",
       "      <td>이안엔터프라이즈(주)</td>\n",
       "    </tr>\n",
       "    <tr>\n",
       "      <th>23</th>\n",
       "      <td>-</td>\n",
       "      <td>이안에프앤비(주)</td>\n",
       "    </tr>\n",
       "    <tr>\n",
       "      <th>24</th>\n",
       "      <td>-</td>\n",
       "      <td>이안씨앤에스(주)</td>\n",
       "    </tr>\n",
       "    <tr>\n",
       "      <th>25</th>\n",
       "      <td>-</td>\n",
       "      <td>이안라이팅(주)</td>\n",
       "    </tr>\n",
       "    <tr>\n",
       "      <th>26</th>\n",
       "      <td>-</td>\n",
       "      <td>이안라이팅(주)</td>\n",
       "    </tr>\n",
       "    <tr>\n",
       "      <th>27</th>\n",
       "      <td>-</td>\n",
       "      <td>이안(주)</td>\n",
       "    </tr>\n",
       "    <tr>\n",
       "      <th>28</th>\n",
       "      <td>4.0</td>\n",
       "      <td>이아커뮤니케이션(주)</td>\n",
       "    </tr>\n",
       "    <tr>\n",
       "      <th>29</th>\n",
       "      <td>1.5</td>\n",
       "      <td>이아이피(주)</td>\n",
       "    </tr>\n",
       "    <tr>\n",
       "      <th>...</th>\n",
       "      <td>...</td>\n",
       "      <td>...</td>\n",
       "    </tr>\n",
       "    <tr>\n",
       "      <th>71</th>\n",
       "      <td>-</td>\n",
       "      <td>이싸인(주)</td>\n",
       "    </tr>\n",
       "    <tr>\n",
       "      <th>72</th>\n",
       "      <td>-</td>\n",
       "      <td>이십일인코스(주)</td>\n",
       "    </tr>\n",
       "    <tr>\n",
       "      <th>73</th>\n",
       "      <td>-</td>\n",
       "      <td>이십일세기씨앤아이(주)</td>\n",
       "    </tr>\n",
       "    <tr>\n",
       "      <th>74</th>\n",
       "      <td>-</td>\n",
       "      <td>이십사아이앤지(주)</td>\n",
       "    </tr>\n",
       "    <tr>\n",
       "      <th>75</th>\n",
       "      <td>-</td>\n",
       "      <td>이신한덴탈랩특송(주)</td>\n",
       "    </tr>\n",
       "    <tr>\n",
       "      <th>76</th>\n",
       "      <td>-</td>\n",
       "      <td>이신정보기술(주)</td>\n",
       "    </tr>\n",
       "    <tr>\n",
       "      <th>77</th>\n",
       "      <td>-</td>\n",
       "      <td>이시컨트롤(주)</td>\n",
       "    </tr>\n",
       "    <tr>\n",
       "      <th>78</th>\n",
       "      <td>-</td>\n",
       "      <td>이시월드(주)</td>\n",
       "    </tr>\n",
       "    <tr>\n",
       "      <th>79</th>\n",
       "      <td>-</td>\n",
       "      <td>이시엘(주)</td>\n",
       "    </tr>\n",
       "    <tr>\n",
       "      <th>80</th>\n",
       "      <td>-</td>\n",
       "      <td>이시아폴리스(주)</td>\n",
       "    </tr>\n",
       "    <tr>\n",
       "      <th>81</th>\n",
       "      <td>-</td>\n",
       "      <td>이시스테크(주)</td>\n",
       "    </tr>\n",
       "    <tr>\n",
       "      <th>82</th>\n",
       "      <td>2.6</td>\n",
       "      <td>이시스(주)</td>\n",
       "    </tr>\n",
       "    <tr>\n",
       "      <th>83</th>\n",
       "      <td>1.7</td>\n",
       "      <td>이시스(주)</td>\n",
       "    </tr>\n",
       "    <tr>\n",
       "      <th>84</th>\n",
       "      <td>-</td>\n",
       "      <td>이시다코리아(주)</td>\n",
       "    </tr>\n",
       "    <tr>\n",
       "      <th>85</th>\n",
       "      <td>-</td>\n",
       "      <td>이시다매뉴팩쳐링코리아(주)</td>\n",
       "    </tr>\n",
       "    <tr>\n",
       "      <th>86</th>\n",
       "      <td>-</td>\n",
       "      <td>이승진웨딩(주)</td>\n",
       "    </tr>\n",
       "    <tr>\n",
       "      <th>87</th>\n",
       "      <td>2.0</td>\n",
       "      <td>이슬림코리아(주)</td>\n",
       "    </tr>\n",
       "    <tr>\n",
       "      <th>88</th>\n",
       "      <td>-</td>\n",
       "      <td>이슬나라(주)</td>\n",
       "    </tr>\n",
       "    <tr>\n",
       "      <th>89</th>\n",
       "      <td>5.0</td>\n",
       "      <td>이스트후(주)</td>\n",
       "    </tr>\n",
       "    <tr>\n",
       "      <th>90</th>\n",
       "      <td>-</td>\n",
       "      <td>이스트핑거(주)</td>\n",
       "    </tr>\n",
       "    <tr>\n",
       "      <th>91</th>\n",
       "      <td>1.0</td>\n",
       "      <td>이스트포토닉스(주)</td>\n",
       "    </tr>\n",
       "    <tr>\n",
       "      <th>92</th>\n",
       "      <td>-</td>\n",
       "      <td>이스트파워메탈(주)</td>\n",
       "    </tr>\n",
       "    <tr>\n",
       "      <th>93</th>\n",
       "      <td>3.0</td>\n",
       "      <td>이스트파워(주)</td>\n",
       "    </tr>\n",
       "    <tr>\n",
       "      <th>94</th>\n",
       "      <td>-</td>\n",
       "      <td>이스트텍스타일(주)</td>\n",
       "    </tr>\n",
       "    <tr>\n",
       "      <th>95</th>\n",
       "      <td>-</td>\n",
       "      <td>이스트젠(주)</td>\n",
       "    </tr>\n",
       "    <tr>\n",
       "      <th>96</th>\n",
       "      <td>-</td>\n",
       "      <td>이스트유니온그룹인터내셔날(주)</td>\n",
       "    </tr>\n",
       "    <tr>\n",
       "      <th>97</th>\n",
       "      <td>-</td>\n",
       "      <td>이스트웨스트컨설팅(주)</td>\n",
       "    </tr>\n",
       "    <tr>\n",
       "      <th>98</th>\n",
       "      <td>-</td>\n",
       "      <td>이스트어드밴스(주)</td>\n",
       "    </tr>\n",
       "    <tr>\n",
       "      <th>99</th>\n",
       "      <td>3.3</td>\n",
       "      <td>(주)이스트시큐리티</td>\n",
       "    </tr>\n",
       "    <tr>\n",
       "      <th>100</th>\n",
       "      <td>3.4</td>\n",
       "      <td>(주)이스트소프트</td>\n",
       "    </tr>\n",
       "  </tbody>\n",
       "</table>\n",
       "<p>101 rows × 2 columns</p>\n",
       "</div>"
      ],
      "text/plain": [
       "    name             score\n",
       "0      -        이앤아이미디어(주)\n",
       "1      -           이앤아이(주)\n",
       "2      -     이앤씨플러스보험중개(주)\n",
       "3      -          이앤씨플랜(주)\n",
       "4    1.0         이앤씨세미콘(주)\n",
       "5      -        이앤씨네트워크(주)\n",
       "6      -          이앤씨기업(주)\n",
       "7      -            이앤씨(주)\n",
       "8      -            이앤씨(주)\n",
       "9      -         이앤비코리아(주)\n",
       "10   2.0         이앤비소프트(주)\n",
       "11     -            이앤비(주)\n",
       "12     -            이앤비(주)\n",
       "13     -      이앤디리딩대부금융(주)\n",
       "14     -            이액트(주)\n",
       "15     -            이액션(주)\n",
       "16   1.2           이암허브(주)\n",
       "17     -          이알코리아(주)\n",
       "18     -         이알지서비스(주)\n",
       "19   3.0        이알에이코리아(주)\n",
       "20   1.0        이알씨트레이딩(주)\n",
       "21     -           이안정밀(주)\n",
       "22     -       이안엔터프라이즈(주)\n",
       "23     -         이안에프앤비(주)\n",
       "24     -         이안씨앤에스(주)\n",
       "25     -          이안라이팅(주)\n",
       "26     -          이안라이팅(주)\n",
       "27     -             이안(주)\n",
       "28   4.0       이아커뮤니케이션(주)\n",
       "29   1.5           이아이피(주)\n",
       "..   ...               ...\n",
       "71     -            이싸인(주)\n",
       "72     -         이십일인코스(주)\n",
       "73     -      이십일세기씨앤아이(주)\n",
       "74     -        이십사아이앤지(주)\n",
       "75     -       이신한덴탈랩특송(주)\n",
       "76     -         이신정보기술(주)\n",
       "77     -          이시컨트롤(주)\n",
       "78     -           이시월드(주)\n",
       "79     -            이시엘(주)\n",
       "80     -         이시아폴리스(주)\n",
       "81     -          이시스테크(주)\n",
       "82   2.6            이시스(주)\n",
       "83   1.7            이시스(주)\n",
       "84     -         이시다코리아(주)\n",
       "85     -    이시다매뉴팩쳐링코리아(주)\n",
       "86     -          이승진웨딩(주)\n",
       "87   2.0         이슬림코리아(주)\n",
       "88     -           이슬나라(주)\n",
       "89   5.0           이스트후(주)\n",
       "90     -          이스트핑거(주)\n",
       "91   1.0        이스트포토닉스(주)\n",
       "92     -        이스트파워메탈(주)\n",
       "93   3.0          이스트파워(주)\n",
       "94     -        이스트텍스타일(주)\n",
       "95     -           이스트젠(주)\n",
       "96     -  이스트유니온그룹인터내셔날(주)\n",
       "97     -      이스트웨스트컨설팅(주)\n",
       "98     -        이스트어드밴스(주)\n",
       "99   3.3        (주)이스트시큐리티\n",
       "100  3.4         (주)이스트소프트\n",
       "\n",
       "[101 rows x 2 columns]"
      ]
     },
     "execution_count": 49,
     "metadata": {},
     "output_type": "execute_result"
    }
   ],
   "source": [
    "jobplanet_df"
   ]
  },
  {
   "cell_type": "code",
   "execution_count": 50,
   "metadata": {},
   "outputs": [],
   "source": [
    "import requests\n",
    "from bs4 import BeautifulSoup\n",
    "import pandas as pd\n",
    "from tqdm import tqdm_notebook"
   ]
  },
  {
   "cell_type": "code",
   "execution_count": 2,
   "metadata": {},
   "outputs": [],
   "source": [
    "u_num = 58863\n",
    "url = 'https://www.jobplanet.co.kr/companies/'+str(u_num)+'/reviews'\n",
    "req = requests.get(url)\n",
    "html = req.text\n",
    "header = req.headers\n",
    "soup = BeautifulSoup(html, 'html.parser')\n",
    "my_titles = soup.select('h2.tit')"
   ]
  },
  {
   "cell_type": "code",
   "execution_count": 74,
   "metadata": {},
   "outputs": [
    {
     "data": {
      "text/plain": [
       "'(주)이스트소프트'"
      ]
     },
     "execution_count": 74,
     "metadata": {},
     "output_type": "execute_result"
    }
   ],
   "source": [
    "my_titles[0].text"
   ]
  },
  {
   "cell_type": "code",
   "execution_count": null,
   "metadata": {},
   "outputs": [],
   "source": [
    "for i in range(1,344093):#총 index 갯수"
   ]
  },
  {
   "cell_type": "code",
   "execution_count": 51,
   "metadata": {},
   "outputs": [
    {
     "data": {
      "application/vnd.jupyter.widget-view+json": {
       "model_id": "b97f495b7883438d87da83e5bd08bdc9",
       "version_major": 2,
       "version_minor": 0
      },
      "text/plain": [
       "HBox(children=(IntProgress(value=0, max=99), HTML(value='')))"
      ]
     },
     "metadata": {},
     "output_type": "display_data"
    },
    {
     "name": "stdout",
     "output_type": "stream",
     "text": [
      "\n"
     ]
    },
    {
     "data": {
      "text/html": [
       "<div>\n",
       "<style scoped>\n",
       "    .dataframe tbody tr th:only-of-type {\n",
       "        vertical-align: middle;\n",
       "    }\n",
       "\n",
       "    .dataframe tbody tr th {\n",
       "        vertical-align: top;\n",
       "    }\n",
       "\n",
       "    .dataframe thead th {\n",
       "        text-align: right;\n",
       "    }\n",
       "</style>\n",
       "<table border=\"1\" class=\"dataframe\">\n",
       "  <thead>\n",
       "    <tr style=\"text-align: right;\">\n",
       "      <th></th>\n",
       "      <th>name</th>\n",
       "      <th>score</th>\n",
       "      <th>promotion</th>\n",
       "      <th>welfare</th>\n",
       "      <th>balance</th>\n",
       "      <th>culture</th>\n",
       "      <th>executive</th>\n",
       "    </tr>\n",
       "  </thead>\n",
       "  <tbody>\n",
       "    <tr>\n",
       "      <th>0</th>\n",
       "      <td>힐티코리아(주)</td>\n",
       "      <td>2.8</td>\n",
       "      <td>2.7</td>\n",
       "      <td>2.1</td>\n",
       "      <td>3.8</td>\n",
       "      <td>2.9</td>\n",
       "      <td>2.3</td>\n",
       "    </tr>\n",
       "    <tr>\n",
       "      <th>1</th>\n",
       "      <td>히타치하이테크놀로지즈코리아(주)</td>\n",
       "      <td>3.4</td>\n",
       "      <td>3.4</td>\n",
       "      <td>3.9</td>\n",
       "      <td>2.9</td>\n",
       "      <td>2.8</td>\n",
       "      <td>2.7</td>\n",
       "    </tr>\n",
       "    <tr>\n",
       "      <th>2</th>\n",
       "      <td>히타치아로카메디칼한국(주)</td>\n",
       "      <td>2.0</td>\n",
       "      <td>2.0</td>\n",
       "      <td>2.0</td>\n",
       "      <td>3.0</td>\n",
       "      <td>3.0</td>\n",
       "      <td>2.0</td>\n",
       "    </tr>\n",
       "    <tr>\n",
       "      <th>3</th>\n",
       "      <td>히스보험중개(주)</td>\n",
       "      <td>3.3</td>\n",
       "      <td>3.5</td>\n",
       "      <td>3.7</td>\n",
       "      <td>3.2</td>\n",
       "      <td>2.5</td>\n",
       "      <td>2.7</td>\n",
       "    </tr>\n",
       "    <tr>\n",
       "      <th>4</th>\n",
       "      <td>히로세코리아(주)</td>\n",
       "      <td>2.4</td>\n",
       "      <td>2.7</td>\n",
       "      <td>3.2</td>\n",
       "      <td>1.7</td>\n",
       "      <td>1.9</td>\n",
       "      <td>1.9</td>\n",
       "    </tr>\n",
       "    <tr>\n",
       "      <th>5</th>\n",
       "      <td>희성피엠텍(주)</td>\n",
       "      <td>1.0</td>\n",
       "      <td>2.0</td>\n",
       "      <td>4.0</td>\n",
       "      <td>1.0</td>\n",
       "      <td>2.0</td>\n",
       "      <td>2.0</td>\n",
       "    </tr>\n",
       "    <tr>\n",
       "      <th>6</th>\n",
       "      <td>희성촉매(주)</td>\n",
       "      <td>3.2</td>\n",
       "      <td>3.2</td>\n",
       "      <td>3.9</td>\n",
       "      <td>2.8</td>\n",
       "      <td>2.7</td>\n",
       "      <td>2.3</td>\n",
       "    </tr>\n",
       "    <tr>\n",
       "      <th>7</th>\n",
       "      <td>희성전자(주)</td>\n",
       "      <td>2.6</td>\n",
       "      <td>2.6</td>\n",
       "      <td>3.0</td>\n",
       "      <td>2.0</td>\n",
       "      <td>2.3</td>\n",
       "      <td>2.0</td>\n",
       "    </tr>\n",
       "    <tr>\n",
       "      <th>8</th>\n",
       "      <td>희성산업</td>\n",
       "      <td>2.0</td>\n",
       "      <td>2.0</td>\n",
       "      <td>2.0</td>\n",
       "      <td>3.0</td>\n",
       "      <td>3.0</td>\n",
       "      <td>2.0</td>\n",
       "    </tr>\n",
       "    <tr>\n",
       "      <th>9</th>\n",
       "      <td>희성금속(주)</td>\n",
       "      <td>2.3</td>\n",
       "      <td>2.2</td>\n",
       "      <td>2.8</td>\n",
       "      <td>1.7</td>\n",
       "      <td>2.1</td>\n",
       "      <td>1.7</td>\n",
       "    </tr>\n",
       "    <tr>\n",
       "      <th>10</th>\n",
       "      <td>희망약국</td>\n",
       "      <td>2.0</td>\n",
       "      <td>1.0</td>\n",
       "      <td>1.0</td>\n",
       "      <td>2.0</td>\n",
       "      <td>2.0</td>\n",
       "      <td>1.0</td>\n",
       "    </tr>\n",
       "    <tr>\n",
       "      <th>11</th>\n",
       "      <td>희림상사</td>\n",
       "      <td>3.0</td>\n",
       "      <td>3.3</td>\n",
       "      <td>2.7</td>\n",
       "      <td>3.0</td>\n",
       "      <td>2.7</td>\n",
       "      <td>3.0</td>\n",
       "    </tr>\n",
       "    <tr>\n",
       "      <th>12</th>\n",
       "      <td>흥진산업</td>\n",
       "      <td>3.5</td>\n",
       "      <td>2.5</td>\n",
       "      <td>3.0</td>\n",
       "      <td>4.0</td>\n",
       "      <td>3.0</td>\n",
       "      <td>3.0</td>\n",
       "    </tr>\n",
       "    <tr>\n",
       "      <th>13</th>\n",
       "      <td>흥아해운(주)</td>\n",
       "      <td>2.4</td>\n",
       "      <td>2.9</td>\n",
       "      <td>2.2</td>\n",
       "      <td>2.3</td>\n",
       "      <td>2.1</td>\n",
       "      <td>2.2</td>\n",
       "    </tr>\n",
       "  </tbody>\n",
       "</table>\n",
       "</div>"
      ],
      "text/plain": [
       "                 name score promotion welfare balance culture executive\n",
       "0            힐티코리아(주)   2.8       2.7     2.1     3.8     2.9       2.3\n",
       "1   히타치하이테크놀로지즈코리아(주)   3.4       3.4     3.9     2.9     2.8       2.7\n",
       "2      히타치아로카메디칼한국(주)   2.0       2.0     2.0     3.0     3.0       2.0\n",
       "3           히스보험중개(주)   3.3       3.5     3.7     3.2     2.5       2.7\n",
       "4           히로세코리아(주)   2.4       2.7     3.2     1.7     1.9       1.9\n",
       "5            희성피엠텍(주)   1.0       2.0     4.0     1.0     2.0       2.0\n",
       "6             희성촉매(주)   3.2       3.2     3.9     2.8     2.7       2.3\n",
       "7             희성전자(주)   2.6       2.6     3.0     2.0     2.3       2.0\n",
       "8                희성산업   2.0       2.0     2.0     3.0     3.0       2.0\n",
       "9             희성금속(주)   2.3       2.2     2.8     1.7     2.1       1.7\n",
       "10               희망약국   2.0       1.0     1.0     2.0     2.0       1.0\n",
       "11               희림상사   3.0       3.3     2.7     3.0     2.7       3.0\n",
       "12               흥진산업   3.5       2.5     3.0     4.0     3.0       3.0\n",
       "13            흥아해운(주)   2.4       2.9     2.2     2.3     2.1       2.2"
      ]
     },
     "execution_count": 51,
     "metadata": {},
     "output_type": "execute_result"
    }
   ],
   "source": [
    "jobplanet_df = pd.DataFrame(columns=[\"name\",\"score\",\"promotion\",\"welfare\",\"balance\",\"culture\",\"executive\"])\n",
    "for i in tqdm_notebook(range(1,100)):\n",
    "    url = 'https://www.jobplanet.co.kr/companies/'+str(i)+'/reviews'\n",
    "    req = requests.get(url)\n",
    "    html = req.text\n",
    "    header = req.headers\n",
    "    soup = BeautifulSoup(html, 'html.parser')\n",
    "    try:\n",
    "        \n",
    "        if soup.select('span.rate_point')[0].text == '-': #스코어가 없을 때\n",
    "            continue\n",
    "        else:\n",
    "            name = soup.select('h2.tit')[0].text\n",
    "            score = soup.select('span.rate_point')[0].text        \n",
    "            promotion = soup.select('span.txt_point')[0].text\n",
    "            welfare = soup.select('span.txt_point')[1].text\n",
    "            balance = soup.select('span.txt_point')[2].text\n",
    "            culture = soup.select('span.txt_point')[3].text\n",
    "            executive = soup.select('span.txt_point')[4].text\n",
    "\n",
    "            jobplanet_df.loc[len(jobplanet_df)] = [name,score,promotion,welfare,balance,culture,executive]\n",
    "    except:\n",
    "        continue\n",
    "jobplanet_df"
   ]
  },
  {
   "cell_type": "code",
   "execution_count": 44,
   "metadata": {
    "scrolled": true
   },
   "outputs": [
    {
     "data": {
      "text/plain": [
       "'-'"
      ]
     },
     "execution_count": 44,
     "metadata": {},
     "output_type": "execute_result"
    }
   ],
   "source": [
    "jobplanet_df[\"score\"][0]"
   ]
  },
  {
   "cell_type": "code",
   "execution_count": null,
   "metadata": {},
   "outputs": [],
   "source": [
    "url = 'https://www.jobplanet.co.kr/companies/58862/reviews'\n",
    "req = requests.get(url)\n",
    "html = req.text\n",
    "header = req.headers\n",
    "soup = BeautifulSoup(html, 'html.parser')"
   ]
  },
  {
   "cell_type": "code",
   "execution_count": 128,
   "metadata": {
    "scrolled": true
   },
   "outputs": [
    {
     "name": "stdout",
     "output_type": "stream",
     "text": [
      "3.1\n",
      "2.3\n",
      "3.8\n",
      "3.5\n",
      "2.3\n"
     ]
    }
   ],
   "source": [
    "for i in soup.select('span.txt_point'):\n",
    "    print(i.text)"
   ]
  },
  {
   "cell_type": "code",
   "execution_count": 130,
   "metadata": {},
   "outputs": [],
   "source": [
    "for  foo in soup.find_all('div',attrs={'class':'rate_pie_set'}):\n",
    "    bar = foo.find('span',attrs={'class':'txt_point'})\n",
    "    print(bar.text)"
   ]
  },
  {
   "cell_type": "code",
   "execution_count": 144,
   "metadata": {},
   "outputs": [
    {
     "name": "stdout",
     "output_type": "stream",
     "text": [
      "[]\n"
     ]
    }
   ],
   "source": [
    "print(soup.find_all('div',attrs={'class':'rate_label '}))"
   ]
  }
 ],
 "metadata": {
  "kernelspec": {
   "display_name": "Python 3",
   "language": "python",
   "name": "python3"
  },
  "language_info": {
   "codemirror_mode": {
    "name": "ipython",
    "version": 3
   },
   "file_extension": ".py",
   "mimetype": "text/x-python",
   "name": "python",
   "nbconvert_exporter": "python",
   "pygments_lexer": "ipython3",
   "version": "3.7.1"
  }
 },
 "nbformat": 4,
 "nbformat_minor": 2
}
